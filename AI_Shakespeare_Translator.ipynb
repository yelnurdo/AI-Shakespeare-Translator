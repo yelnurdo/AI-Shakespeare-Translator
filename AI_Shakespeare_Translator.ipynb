{
  "nbformat": 4,
  "nbformat_minor": 0,
  "metadata": {
    "colab": {
      "provenance": [],
      "authorship_tag": "ABX9TyNcc/s2xVSIfMngRxCAqiHw",
      "include_colab_link": true
    },
    "kernelspec": {
      "name": "python3",
      "display_name": "Python 3"
    },
    "language_info": {
      "name": "python"
    }
  },
  "cells": [
    {
      "cell_type": "markdown",
      "metadata": {
        "id": "view-in-github",
        "colab_type": "text"
      },
      "source": [
        "<a href=\"https://colab.research.google.com/github/yelnurdo/AI-Shakespeare-Translator/blob/main/AI_Shakespeare_Translator.ipynb\" target=\"_parent\"><img src=\"https://colab.research.google.com/assets/colab-badge.svg\" alt=\"Open In Colab\"/></a>"
      ]
    },
    {
      "cell_type": "code",
      "execution_count": 3,
      "metadata": {
        "colab": {
          "base_uri": "https://localhost:8080/"
        },
        "id": "gysXtf5SrEYS",
        "outputId": "b6bc95f0-2653-43f5-c8e3-a94e73eb419b"
      },
      "outputs": [
        {
          "output_type": "stream",
          "name": "stdout",
          "text": [
            "[Errno 2] No such file or directory: '/content/your-repo'\n",
            "/content\n",
            "sample_data\n"
          ]
        }
      ],
      "source": [
        "%cd /content/your-repo\n",
        "!ls"
      ]
    },
    {
      "cell_type": "code",
      "source": [
        "!git clone https://github.com/yelnurdo/AI-Shakespeare-Translator.git"
      ],
      "metadata": {
        "colab": {
          "base_uri": "https://localhost:8080/"
        },
        "id": "qOa3qsfir_Zn",
        "outputId": "ac868933-657f-4812-8b20-348f935d91e1"
      },
      "execution_count": 4,
      "outputs": [
        {
          "output_type": "stream",
          "name": "stdout",
          "text": [
            "Cloning into 'AI-Shakespeare-Translator'...\n",
            "warning: You appear to have cloned an empty repository.\n"
          ]
        }
      ]
    },
    {
      "cell_type": "code",
      "source": [
        "!git add . && git commit -m 'Init Project Skeleton'"
      ],
      "metadata": {
        "id": "9dbFh48vsURs"
      },
      "execution_count": null,
      "outputs": []
    }
  ]
}