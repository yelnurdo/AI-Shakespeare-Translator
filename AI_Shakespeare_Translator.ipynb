{
  "nbformat": 4,
  "nbformat_minor": 0,
  "metadata": {
    "colab": {
      "provenance": [],
      "authorship_tag": "ABX9TyO//dID75/z99ABPApkxakt"
    },
    "kernelspec": {
      "name": "python3",
      "display_name": "Python 3"
    },
    "language_info": {
      "name": "python"
    }
  },
  "cells": [
    {
      "cell_type": "code",
      "execution_count": 3,
      "metadata": {
        "colab": {
          "base_uri": "https://localhost:8080/"
        },
        "id": "gysXtf5SrEYS",
        "outputId": "b6bc95f0-2653-43f5-c8e3-a94e73eb419b"
      },
      "outputs": [
        {
          "output_type": "stream",
          "name": "stdout",
          "text": [
            "[Errno 2] No such file or directory: '/content/your-repo'\n",
            "/content\n",
            "sample_data\n"
          ]
        }
      ],
      "source": [
        "%cd /content/your-repo\n",
        "!ls"
      ]
    },
    {
      "cell_type": "code",
      "source": [
        "!git clone https://github.com/yelnurdo/AI-Shakespeare-Translator.git"
      ],
      "metadata": {
        "colab": {
          "base_uri": "https://localhost:8080/"
        },
        "id": "qOa3qsfir_Zn",
        "outputId": "ac868933-657f-4812-8b20-348f935d91e1"
      },
      "execution_count": 4,
      "outputs": [
        {
          "output_type": "stream",
          "name": "stdout",
          "text": [
            "Cloning into 'AI-Shakespeare-Translator'...\n",
            "warning: You appear to have cloned an empty repository.\n"
          ]
        }
      ]
    },
    {
      "cell_type": "code",
      "source": [
        "!git add . && git commit -m 'Init Project Skeleton'"
      ],
      "metadata": {
        "id": "9dbFh48vsURs"
      },
      "execution_count": null,
      "outputs": []
    },
    {
      "cell_type": "code",
      "source": [
        "## ADding comments"
      ],
      "metadata": {
        "id": "mQBF-_3cuLvu"
      },
      "execution_count": null,
      "outputs": []
    }
  ]
}